{
  "nbformat": 4,
  "nbformat_minor": 0,
  "metadata": {
    "colab": {
      "provenance": [],
      "gpuType": "T4"
    },
    "kernelspec": {
      "name": "python3",
      "display_name": "Python 3"
    },
    "language_info": {
      "name": "python"
    },
    "accelerator": "GPU"
  },
  "cells": [
    {
      "cell_type": "markdown",
      "source": [
        "## Homework 6\n",
        "\n",
        "Adam Grabowski |\n",
        "CS 541 Deep Learning |\n",
        "November 6, 2023"
      ],
      "metadata": {
        "id": "1Luu86mVa1Zl"
      }
    },
    {
      "cell_type": "markdown",
      "source": [
        "## Problem 1"
      ],
      "metadata": {
        "id": "BqbLw5QcB5qt"
      }
    },
    {
      "cell_type": "code",
      "source": [
        "import numpy as np"
      ],
      "metadata": {
        "id": "UqAlN_BaFV8o"
      },
      "execution_count": 30,
      "outputs": []
    },
    {
      "cell_type": "code",
      "source": [
        "def scaled_dot_product_attention(query, key, value):\n",
        "    # Compute dot product between query and transposed key\n",
        "    dot_product = np.matmul(query, key.transpose(0, 2, 1))\n",
        "\n",
        "    # Scale dot product by square root of key's dimension\n",
        "    scaled_dot_product = dot_product / np.sqrt(key.shape[-1])\n",
        "\n",
        "    # Apply softmax to obtain attention scores\n",
        "    attention_scores = np.exp(scaled_dot_product - np.max(scaled_dot_product, axis=-1, keepdims=True))\n",
        "    attention_scores /= np.sum(attention_scores, axis=-1, keepdims=True)\n",
        "\n",
        "    # Weight values by attention scores to get output\n",
        "    output = np.matmul(attention_scores, value)\n",
        "\n",
        "    return output"
      ],
      "metadata": {
        "id": "1K51O7U7Jnj7"
      },
      "execution_count": 32,
      "outputs": []
    },
    {
      "cell_type": "code",
      "source": [
        "# Define dimensions of input data\n",
        "batch_size = 2\n",
        "input_seq_length = 3\n",
        "query_dim = 4\n",
        "key_dim = 4\n",
        "value_dim = 5\n",
        "\n",
        "# Generate random input data for query, key, and value\n",
        "query = np.random.rand(batch_size, input_seq_length, query_dim)\n",
        "key = np.random.rand(batch_size, input_seq_length, key_dim)\n",
        "value = np.random.rand(batch_size, input_seq_length, value_dim)\n",
        "\n",
        "# Apply scaled dot-product attention mechanism\n",
        "output = scaled_dot_product_attention(query, key, value)\n",
        "\n",
        "# Print shape of output\n",
        "print(\"Output shape:\", output.shape)"
      ],
      "metadata": {
        "colab": {
          "base_uri": "https://localhost:8080/"
        },
        "id": "Ciu4avJVKRJy",
        "outputId": "ee2d6284-1f43-4d45-fd7b-440a1f9bc7d2"
      },
      "execution_count": 33,
      "outputs": [
        {
          "output_type": "stream",
          "name": "stdout",
          "text": [
            "Output shape: (2, 3, 5)\n"
          ]
        }
      ]
    },
    {
      "cell_type": "code",
      "source": [
        "def split_heads(x, num_heads):\n",
        "    # Get dimensions of input tensor\n",
        "    batch_size, input_seq_length, concatenated_dim = x.shape\n",
        "\n",
        "    # Calculate dimension of each head\n",
        "    head_dim = concatenated_dim // num_heads\n",
        "\n",
        "    # Reshape input tensor to split last dimension into multiple heads\n",
        "    x = x.reshape(batch_size, input_seq_length, num_heads, head_dim)\n",
        "\n",
        "    return x"
      ],
      "metadata": {
        "id": "KtcUdhr9LO6t"
      },
      "execution_count": 34,
      "outputs": []
    },
    {
      "cell_type": "code",
      "source": [
        "# Define dimensions for input data\n",
        "batch_size = 2\n",
        "input_seq_length = 3\n",
        "num_heads = 2\n",
        "concatenated_dim = 8\n",
        "\n",
        "# Generate random input data with specified dimensions\n",
        "x = np.random.rand(batch_size, input_seq_length, num_heads * concatenated_dim)\n",
        "\n",
        "# Apply split_heads function to split last dimension into multiple heads\n",
        "split_result = split_heads(x, num_heads)\n",
        "\n",
        "# Print shape of resulting tensor after splitting\n",
        "print(\"Split result shape:\", split_result.shape)"
      ],
      "metadata": {
        "colab": {
          "base_uri": "https://localhost:8080/"
        },
        "id": "i3SAq0wfLYmp",
        "outputId": "e0ddfdc4-af93-4c54-ff2d-edfb8af548ad"
      },
      "execution_count": 35,
      "outputs": [
        {
          "output_type": "stream",
          "name": "stdout",
          "text": [
            "Split result shape: (2, 3, 2, 8)\n"
          ]
        }
      ]
    },
    {
      "cell_type": "code",
      "source": [
        "def multi_head_scaled_attention(query, key, value, num_heads, Wq, Wk, Wv):\n",
        "    # Project input tensors using learnable weight matrices\n",
        "    projected_query = np.matmul(query, Wq)\n",
        "    projected_key = np.matmul(key, Wk)\n",
        "    projected_value = np.matmul(value, Wv)\n",
        "\n",
        "    # Split each projected tensor into multiple heads\n",
        "    projected_query = split_heads(projected_query, num_heads)\n",
        "    projected_key = split_heads(projected_key, num_heads)\n",
        "    projected_value = split_heads(projected_value, num_heads)\n",
        "\n",
        "    # List to store outputs from each head\n",
        "    head_outputs = []\n",
        "\n",
        "    # Apply scaled dot-product attention for each head\n",
        "    for i in range(num_heads):\n",
        "        head_output = scaled_dot_product_attention(projected_query[:, :, i, :], projected_key[:, :, i, :], projected_value[:, :, i, :])\n",
        "        head_outputs.append(head_output)\n",
        "\n",
        "    # Concatenate outputs from all heads along last dimension\n",
        "    multi_head_output = np.concatenate(head_outputs, axis=-1)\n",
        "\n",
        "    return multi_head_output"
      ],
      "metadata": {
        "id": "nMhwelQbL-Aw"
      },
      "execution_count": 36,
      "outputs": []
    },
    {
      "cell_type": "code",
      "source": [
        "# Define dimensions for input data\n",
        "batch_size = 2\n",
        "input_seq_length = 3\n",
        "query_dim = 4\n",
        "key_dim = 4\n",
        "value_dim = 5\n",
        "num_heads = 2\n",
        "\n",
        "# Generate random input data for query, key, and value\n",
        "query = np.random.rand(batch_size, input_seq_length, query_dim)\n",
        "key = np.random.rand(batch_size, input_seq_length, key_dim)\n",
        "value = np.random.rand(batch_size, input_seq_length, value_dim)\n",
        "\n",
        "# Generate random learnable weight matrices for projection\n",
        "Wq = np.random.rand(query_dim, num_heads * query_dim)\n",
        "Wk = np.random.rand(key_dim, num_heads * key_dim)\n",
        "Wv = np.random.rand(value_dim, num_heads * value_dim)\n",
        "\n",
        "# Apply multi-head scaled attention mechanism\n",
        "output = multi_head_scaled_attention(query, key, value, num_heads, Wq, Wk, Wv)\n",
        "\n",
        "# Print shape of resulting multi-head attention output\n",
        "print(\"Output shape:\", output.shape)"
      ],
      "metadata": {
        "colab": {
          "base_uri": "https://localhost:8080/"
        },
        "id": "uej9_BPMM4JR",
        "outputId": "d5afed3d-59e9-40fe-f697-1f19712ef4ea"
      },
      "execution_count": 37,
      "outputs": [
        {
          "output_type": "stream",
          "name": "stdout",
          "text": [
            "Output shape: (2, 3, 10)\n"
          ]
        }
      ]
    },
    {
      "cell_type": "markdown",
      "source": [
        "### Problem 2"
      ],
      "metadata": {
        "id": "pCH4qjpkbUgi"
      }
    },
    {
      "cell_type": "code",
      "source": [
        "from __future__ import unicode_literals, print_function, division\n",
        "from io import open\n",
        "import unicodedata\n",
        "import re\n",
        "import random\n",
        "\n",
        "import torch\n",
        "import torch.nn as nn\n",
        "from torch import optim\n",
        "import torch.nn.functional as F\n",
        "\n",
        "import numpy as np\n",
        "import matplotlib.pyplot as plt\n",
        "%matplotlib inline\n",
        "\n",
        "from torch.utils.data import TensorDataset, DataLoader, RandomSampler\n",
        "import torchtext.vocab as vocab\n",
        "from sklearn.model_selection import train_test_split\n",
        "\n",
        "import time\n",
        "import math\n",
        "\n",
        "device = torch.device('cuda' if torch.cuda.is_available() else 'cpu')"
      ],
      "metadata": {
        "id": "q74HF37Pa8Aj"
      },
      "execution_count": 38,
      "outputs": []
    },
    {
      "cell_type": "code",
      "source": [
        "# Define special tokens for start and end of scentence\n",
        "SOS_token = 0\n",
        "EOS_token = 1\n",
        "\n",
        "class Lang:\n",
        "    def __init__(self, name):\n",
        "        # Language class to manage vocabulary\n",
        "        self.name = name\n",
        "        self.word2index = {}\n",
        "        self.word2count = {}\n",
        "        self.index2word = {0: 'SOS', 1: 'EOS'}\n",
        "        self.n_words = 2\n",
        "\n",
        "    def addSentence(self, sentence):\n",
        "        # Add each word in sentence to language vocabulary\n",
        "        for word in sentence.split(' '):\n",
        "            self.addWord(word)\n",
        "\n",
        "    def addWord(self, word):\n",
        "        # Add word to vocabulary not already present, update counts otherwise\n",
        "        if word not in self.word2index:\n",
        "            self.word2index[word] = self.n_words\n",
        "            self.word2count[word] = 1\n",
        "            self.index2word[self.n_words] = word\n",
        "            self.n_words += 1\n",
        "        else:\n",
        "            self.word2count[word] += 1"
      ],
      "metadata": {
        "id": "lHoTwBklbcxq"
      },
      "execution_count": 41,
      "outputs": []
    },
    {
      "cell_type": "code",
      "source": [
        "def unicodeToAscii(s):\n",
        "    # Convert Unicode to ASCII characters\n",
        "    return ''.join(\n",
        "        c for c in unicodedata.normalize('NFD', s)\n",
        "        if unicodedata.category(c) != 'Mn'\n",
        "    )\n",
        "\n",
        "def normalizeString(s):\n",
        "    # Convert to ASCII, lowercase, and strip\n",
        "    s = unicodeToAscii(s.lower().strip())\n",
        "\n",
        "    # Add space before punctuation and remove non-alphabetic characters\n",
        "    s = re.sub(r'([.!?])', r' \\1', s)\n",
        "    s = re.sub(r'[^a-zA-Z!?]+', r' ', s)\n",
        "    return s.strip()"
      ],
      "metadata": {
        "id": "7lB6F3PPbjBi"
      },
      "execution_count": 43,
      "outputs": []
    },
    {
      "cell_type": "code",
      "source": [
        "def readLangs(lang1, lang2, reverse=False):\n",
        "    # Read lines from specified file and split into pairs\n",
        "    lines = open('%s-%s.txt' % (lang1, lang2), encoding='utf-8').\\\n",
        "        read().strip().split('\\n')\n",
        "\n",
        "    # Normalize each pair of sentences\n",
        "    pairs = [[normalizeString(s) for s in l.split('\\t')] for l in lines]\n",
        "\n",
        "    # If reverse True, swap order of language pairs\n",
        "    if reverse:\n",
        "        pairs = [list(reversed(p)) for p in pairs]\n",
        "        input_lang = Lang(lang2)\n",
        "        output_lang = Lang(lang1)\n",
        "    else:\n",
        "        input_lang = Lang(lang1)\n",
        "        output_lang = Lang(lang2)\n",
        "\n",
        "    return input_lang, output_lang, pairs"
      ],
      "metadata": {
        "id": "RlVwnAdYboqe"
      },
      "execution_count": 45,
      "outputs": []
    },
    {
      "cell_type": "code",
      "source": [
        "# Maximum allowed length for sentence pairs\n",
        "MAX_LENGTH = 10\n",
        "\n",
        "# French sentence prefixes to filter pairs\n",
        "fr_prefixes = (\n",
        "    \"je suis \", \"j'suis \",\n",
        "    \"il est \", \"il'st \",\n",
        "    \"elle est \", \"elle'st \",\n",
        "    \"tu es \", \"t'es \",\n",
        "    \"nous sommes \", \"nous'sommes \",\n",
        "    \"ils sont \", \"ils'sont \"\n",
        ")\n",
        "\n",
        "def filterPair(p):\n",
        "    # Filter single sentence pair based on length and prefixes\n",
        "    return len(p[0].split(' ')) < MAX_LENGTH and \\\n",
        "        len(p[1].split(' ')) < MAX_LENGTH and \\\n",
        "        p[1].startswith(fr_prefixes)\n",
        "\n",
        "def filterPairs(pairs):\n",
        "    # Filter list of sentence pairs using filterPair\n",
        "    return [pair for pair in pairs if filterPair(pair)]"
      ],
      "metadata": {
        "id": "eCsfghfAbt2y"
      },
      "execution_count": 46,
      "outputs": []
    },
    {
      "cell_type": "code",
      "source": [
        "def prepareData(lang1, lang2, reverse=False):\n",
        "    # Create language objects and get pairs from file\n",
        "    input_lang, output_lang, pairs = readLangs(lang1, lang2, reverse)\n",
        "\n",
        "    # Filter pairs based on length and prefixes\n",
        "    pairs = filterPairs(pairs)\n",
        "\n",
        "    # Add sentences from filtered pairs to language objects\n",
        "    for pair in pairs:\n",
        "        input_lang.addSentence(pair[0])\n",
        "        output_lang.addSentence(pair[1])\n",
        "\n",
        "    return input_lang, output_lang, pairs\n",
        "\n",
        "# Prepare data for English to French translation\n",
        "input_lang, output_lang, pairs = prepareData('eng', 'fra')"
      ],
      "metadata": {
        "id": "z8OdRHsEbwqd"
      },
      "execution_count": 47,
      "outputs": []
    },
    {
      "cell_type": "code",
      "source": [
        "class EncoderRNN(nn.Module):\n",
        "    def __init__(self, input_size, hidden_size, dropout_p=0.1):\n",
        "        super(EncoderRNN, self).__init__()\n",
        "        self.hidden_size = hidden_size\n",
        "\n",
        "        # Define GRU layer and apply dropout to input\n",
        "        self.embedding = nn.Embedding(input_size, hidden_size)\n",
        "        self.gru = nn.GRU(hidden_size, hidden_size, batch_first=True)\n",
        "        self.dropout = nn.Dropout(dropout_p)\n",
        "\n",
        "    def forward(self, input):\n",
        "        # Apply dropout to embedded input and pass it through GRU layer\n",
        "        embedded = self.dropout(self.embedding(input))\n",
        "        output, hidden = self.gru(embedded)\n",
        "        return output, hidden"
      ],
      "metadata": {
        "id": "2NVLh98pnoPL"
      },
      "execution_count": 48,
      "outputs": []
    },
    {
      "cell_type": "code",
      "source": [
        "class DecoderRNN(nn.Module):\n",
        "    def __init__(self, hidden_size, output_size):\n",
        "        super(DecoderRNN, self).__init__()\n",
        "        self.embedding = nn.Embedding(output_size, hidden_size)\n",
        "\n",
        "        # Define GRU layer and linear layer\n",
        "        self.gru = nn.GRU(hidden_size, hidden_size, batch_first=True)\n",
        "        self.out = nn.Linear(hidden_size, output_size)\n",
        "\n",
        "    def forward(self, encoder_outputs, encoder_hidden, target_tensor=None):\n",
        "        batch_size = encoder_outputs.size(0)\n",
        "        decoder_input = torch.empty(batch_size, 1, dtype=torch.long, device=device).fill_(SOS_token)\n",
        "        decoder_hidden = encoder_hidden\n",
        "        decoder_outputs = []\n",
        "\n",
        "        # Loop over maximum sequence length\n",
        "        for i in range(MAX_LENGTH):\n",
        "            decoder_output, decoder_hidden  = self.forward_step(decoder_input, decoder_hidden)\n",
        "            decoder_outputs.append(decoder_output)\n",
        "\n",
        "            # Determine next decoder input\n",
        "            if target_tensor is not None:\n",
        "                decoder_input = target_tensor[:, i].unsqueeze(1)\n",
        "            else:\n",
        "                _, topi = decoder_output.topk(1)\n",
        "                decoder_input = topi.squeeze(-1).detach()\n",
        "\n",
        "        # Concatenate decoder outputs and apply log-softmax\n",
        "        decoder_outputs = torch.cat(decoder_outputs, dim=1)\n",
        "        decoder_outputs = F.log_softmax(decoder_outputs, dim=-1)\n",
        "        return decoder_outputs, decoder_hidden, None\n",
        "\n",
        "    def forward_step(self, input, hidden):\n",
        "        # Apply embedding, ReLU, GRU, and linear layers\n",
        "        output = self.embedding(input)\n",
        "        output = F.relu(output)\n",
        "        output, hidden = self.gru(output, hidden)\n",
        "        output = self.out(output)\n",
        "        return output, hidden"
      ],
      "metadata": {
        "id": "UsyMiU5ZcJhV"
      },
      "execution_count": 49,
      "outputs": []
    },
    {
      "cell_type": "code",
      "source": [
        "def indexesFromSentence(lang, sentence):\n",
        "    # Convert sentence to indexes using language vocabulary\n",
        "    return [lang.word2index[word] for word in sentence.split(' ')]\n",
        "\n",
        "def tensorFromSentence(lang, sentence):\n",
        "    # Create tensor from sentence\n",
        "    indexes = indexesFromSentence(lang, sentence)\n",
        "    indexes.append(EOS_token)\n",
        "    return torch.tensor(indexes, dtype=torch.long, device=device).view(1, -1)\n",
        "\n",
        "def tensorsFromPair(pair):\n",
        "    # Create input and target tensors from sentence pair\n",
        "    input_tensor = tensorFromSentence(input_lang, pair[0])\n",
        "    target_tensor = tensorFromSentence(output_lang, pair[1])\n",
        "    return (input_tensor, target_tensor)\n",
        "\n",
        "def get_dataloader(batch_size):\n",
        "    # Prepare language data and pairs\n",
        "    input_lang, output_lang, pairs = prepareData('eng', 'fra')\n",
        "\n",
        "    # Initialize arrays for input and target sentence indices\n",
        "    n = len(pairs)\n",
        "    input_ids = np.zeros((n, MAX_LENGTH), dtype=np.int32)\n",
        "    target_ids = np.zeros((n, MAX_LENGTH), dtype=np.int32)\n",
        "\n",
        "    # Convert sentences to indices and update arrays\n",
        "    for idx, (inp, tgt) in enumerate(pairs):\n",
        "        inp_ids = indexesFromSentence(input_lang, inp)\n",
        "        tgt_ids = indexesFromSentence(output_lang, tgt)\n",
        "        inp_ids.append(EOS_token)\n",
        "        tgt_ids.append(EOS_token)\n",
        "        input_ids[idx, :len(inp_ids)] = inp_ids\n",
        "        target_ids[idx, :len(tgt_ids)] = tgt_ids\n",
        "\n",
        "    # Split data into training and testing sets\n",
        "    input_ids_train, input_ids_test, target_ids_train, target_ids_test = train_test_split(\n",
        "        input_ids, target_ids, test_size=0.2, random_state=42\n",
        "    )\n",
        "\n",
        "    # Create PyTorch datasets and data loaders\n",
        "    train_data = TensorDataset(torch.LongTensor(input_ids_train).to(device),\n",
        "                               torch.LongTensor(target_ids_train).to(device))\n",
        "    test_data = TensorDataset(torch.LongTensor(input_ids_test).to(device),\n",
        "                              torch.LongTensor(target_ids_test).to(device))\n",
        "\n",
        "    train_sampler = RandomSampler(train_data)\n",
        "    train_dataloader = DataLoader(train_data, sampler=train_sampler, batch_size=batch_size)\n",
        "    test_dataloader = DataLoader(test_data, batch_size=batch_size)\n",
        "\n",
        "    # Return language objects and data loaders\n",
        "    return input_lang, output_lang, train_dataloader, test_dataloader"
      ],
      "metadata": {
        "id": "FyXYQF-zcVv4"
      },
      "execution_count": 50,
      "outputs": []
    },
    {
      "cell_type": "code",
      "source": [
        "def train_epoch(dataloader, encoder, decoder, encoder_optimizer, decoder_optimizer, criterion):\n",
        "    # Initialize total loss for epoch\n",
        "    total_loss = 0\n",
        "\n",
        "    # Iterate over batches in dataloader\n",
        "    for data in dataloader:\n",
        "        # Extract input and target tensors from batch\n",
        "        input_tensor, target_tensor = data\n",
        "\n",
        "        # Zero gradients of both encoder and decoder\n",
        "        encoder_optimizer.zero_grad()\n",
        "        decoder_optimizer.zero_grad()\n",
        "\n",
        "        # Forward pass through encoder\n",
        "        encoder_outputs, encoder_hidden = encoder(input_tensor)\n",
        "\n",
        "        # Forward pass through decoder\n",
        "        decoder_outputs, _, _ = decoder(encoder_outputs, encoder_hidden, target_tensor)\n",
        "\n",
        "        # Calculate loss and perform backpropagation\n",
        "        loss = criterion(\n",
        "            decoder_outputs.view(-1, decoder_outputs.size(-1)),\n",
        "            target_tensor.view(-1)\n",
        "        )\n",
        "        loss.backward()\n",
        "        total_loss += loss.item()\n",
        "\n",
        "        # Update encoder and decoder parameters\n",
        "        encoder_optimizer.step()\n",
        "        decoder_optimizer.step()\n",
        "\n",
        "    # Return average loss for the epoch\n",
        "    return total_loss / len(dataloader)"
      ],
      "metadata": {
        "id": "a5tzcpUgce-j"
      },
      "execution_count": 51,
      "outputs": []
    },
    {
      "cell_type": "code",
      "source": [
        "def evaluate(dataloader, encoder, decoder, criterion):\n",
        "    with torch.no_grad():\n",
        "        # Initialize total loss for evaluation\n",
        "        total_loss = 0\n",
        "\n",
        "        # Iterate over batches in dataloader\n",
        "        for data in dataloader:\n",
        "            # Extract input and target tensors from batch\n",
        "            input_tensor, target_tensor = data\n",
        "\n",
        "            # Forward pass through encoder\n",
        "            encoder_outputs, encoder_hidden = encoder(input_tensor)\n",
        "\n",
        "            # Forward pass through decoder\n",
        "            decoder_outputs, _, _ = decoder(encoder_outputs, encoder_hidden, target_tensor)\n",
        "\n",
        "            # Calculate loss and accumulate for evaluation\n",
        "            loss = criterion(\n",
        "                decoder_outputs.view(-1, decoder_outputs.size(-1)),\n",
        "                target_tensor.view(-1)\n",
        "            )\n",
        "            total_loss += loss.item()\n",
        "\n",
        "    # Return average loss for evaluation\n",
        "    return total_loss / len(dataloader)"
      ],
      "metadata": {
        "id": "emWsrrgrc_6d"
      },
      "execution_count": 53,
      "outputs": []
    },
    {
      "cell_type": "code",
      "source": [
        "def translate(encoder, decoder, sentence, input_lang, output_lang):\n",
        "    with torch.no_grad():\n",
        "        # Convert input sentence to PyTorch tensor\n",
        "        input_tensor = tensorFromSentence(input_lang, sentence)\n",
        "\n",
        "        # Forward pass through encoder\n",
        "        encoder_outputs, encoder_hidden = encoder(input_tensor)\n",
        "\n",
        "        # Forward pass through decoder\n",
        "        decoder_outputs, _, _ = decoder(encoder_outputs, encoder_hidden)\n",
        "\n",
        "        # Extract index with highest probability for each position\n",
        "        _, topi = decoder_outputs.topk(1)\n",
        "        decoded_ids = topi.squeeze()\n",
        "\n",
        "        # Convert indices to words in output language\n",
        "        decoded_words = []\n",
        "        for idx in decoded_ids:\n",
        "            # Stop decoding when encounter EOS token\n",
        "            if idx.item() == EOS_token:\n",
        "                decoded_words.append('<EOS>')\n",
        "                break\n",
        "            decoded_words.append(output_lang.index2word[idx.item()])\n",
        "\n",
        "    return decoded_words"
      ],
      "metadata": {
        "id": "WJlq_bMYc9WB"
      },
      "execution_count": 55,
      "outputs": []
    },
    {
      "cell_type": "code",
      "source": [
        "def train(train_dataloader, test_dataloader, encoder, decoder, n_epochs, learning_rate=0.001, print_every=5):\n",
        "    # Lists to store training and test losses for each epoch\n",
        "    train_losses = []\n",
        "    test_losses = []\n",
        "\n",
        "    # Initialize Adam optimizers for encoder and decoder\n",
        "    encoder_optimizer = optim.Adam(encoder.parameters(), lr=learning_rate)\n",
        "    decoder_optimizer = optim.Adam(decoder.parameters(), lr=learning_rate)\n",
        "\n",
        "    # Define negative log likelihood loss criterion\n",
        "    criterion = nn.NLLLoss()\n",
        "\n",
        "    # Iterate over epochs\n",
        "    for epoch in range(1, n_epochs + 1):\n",
        "        # Train model for one epoch and record training loss\n",
        "        train_loss = train_epoch(train_dataloader, encoder, decoder, encoder_optimizer, decoder_optimizer, criterion)\n",
        "        train_losses.append(train_loss)\n",
        "\n",
        "        # Evaluate model on test set and record test loss\n",
        "        test_loss = evaluate(test_dataloader, encoder, decoder, criterion)\n",
        "        test_losses.append(test_loss)\n",
        "\n",
        "        # Print training and test losses for each epoch\n",
        "        print(f'Epoch {epoch}, Train Loss: {train_loss:.4f}, Test Loss: {test_loss:.4f}')\n",
        "\n",
        "        # Print translation example every 5 epochs\n",
        "        if epoch % print_every == 0:\n",
        "            input_sentence = pairs[0][0]\n",
        "            output_words = translate(encoder, decoder, input_sentence, input_lang, output_lang)\n",
        "            output_sentence = ' '.join(output_words)\n",
        "            print(f'Translation: {input_sentence} -> {output_sentence}')\n",
        "\n",
        "    return train_losses, test_losses"
      ],
      "metadata": {
        "id": "kyXLF-YFcpOh"
      },
      "execution_count": 56,
      "outputs": []
    },
    {
      "cell_type": "code",
      "source": [
        "# Define dimensions and batch size\n",
        "input_size = 100\n",
        "hidden_size = 100\n",
        "batch_size = 32\n",
        "\n",
        "# Obtain language data and data loaders for training and testing\n",
        "input_lang, output_lang, train_dataloader, test_dataloader = get_dataloader(batch_size)\n",
        "\n",
        "# Initialize Encoder and Decoder models\n",
        "encoder = EncoderRNN(input_size, hidden_size).to(device)\n",
        "decoder = DecoderRNN(hidden_size, output_lang.n_words).to(device)\n",
        "\n",
        "# Load pre-trained GloVe word embeddings\n",
        "glove = vocab.GloVe(name='6B', dim=100)\n",
        "\n",
        "# Modify GloVe's vocabulary to include unknown token\n",
        "glove.itos = ['<unk>'] + glove.itos\n",
        "glove.stoi = {word: index for index, word in enumerate(glove.itos)}\n",
        "\n",
        "# Add zero vector for unknown token\n",
        "zero_vector = np.zeros((1, glove.vectors.shape[1]), dtype=np.float32)\n",
        "glove.vectors = torch.cat([torch.tensor(zero_vector), glove.vectors])\n",
        "\n",
        "# Create embedding layer from pre-trained vectors\n",
        "embedding = nn.Embedding.from_pretrained(glove.vectors).to(device)\n",
        "\n",
        "# Freeze embedding layer to keep pre-trained weights fixed\n",
        "embedding.weight.requires_grad = False\n",
        "encoder.embedding = embedding\n",
        "\n",
        "# Train sequence-to-sequence model for 80 epochs\n",
        "train_losses, test_losses = train(train_dataloader, test_dataloader, encoder, decoder, 80)"
      ],
      "metadata": {
        "colab": {
          "base_uri": "https://localhost:8080/"
        },
        "id": "8PRNqzqbdZFE",
        "outputId": "d961187d-d159-484f-9a9e-4cd4d6b3a0db"
      },
      "execution_count": 59,
      "outputs": [
        {
          "output_type": "stream",
          "name": "stdout",
          "text": [
            "Epoch 1, Train Loss: 3.7513, Test Loss: 2.7930\n",
            "Epoch 2, Train Loss: 2.5720, Test Loss: 2.4746\n",
            "Epoch 3, Train Loss: 2.2656, Test Loss: 2.2725\n",
            "Epoch 4, Train Loss: 2.0484, Test Loss: 2.1408\n",
            "Epoch 5, Train Loss: 1.8944, Test Loss: 2.0559\n",
            "Translation: i fell -> je suis desole de vous avoir fait <EOS>\n",
            "Epoch 6, Train Loss: 1.7698, Test Loss: 1.9989\n",
            "Epoch 7, Train Loss: 1.6646, Test Loss: 1.9550\n",
            "Epoch 8, Train Loss: 1.5739, Test Loss: 1.9122\n",
            "Epoch 9, Train Loss: 1.4923, Test Loss: 1.8825\n",
            "Epoch 10, Train Loss: 1.4207, Test Loss: 1.8564\n",
            "Translation: i fell -> je suis alle a la plage <EOS>\n",
            "Epoch 11, Train Loss: 1.3548, Test Loss: 1.8378\n",
            "Epoch 12, Train Loss: 1.2956, Test Loss: 1.8242\n",
            "Epoch 13, Train Loss: 1.2415, Test Loss: 1.8103\n",
            "Epoch 14, Train Loss: 1.1942, Test Loss: 1.8064\n",
            "Epoch 15, Train Loss: 1.1463, Test Loss: 1.7963\n",
            "Translation: i fell -> je suis alle a la gare a la maison <EOS>\n",
            "Epoch 16, Train Loss: 1.1031, Test Loss: 1.7896\n",
            "Epoch 17, Train Loss: 1.0628, Test Loss: 1.7865\n",
            "Epoch 18, Train Loss: 1.0254, Test Loss: 1.7756\n",
            "Epoch 19, Train Loss: 0.9901, Test Loss: 1.7789\n",
            "Epoch 20, Train Loss: 0.9574, Test Loss: 1.7738\n",
            "Translation: i fell -> je suis alle a la gare a la maison <EOS>\n",
            "Epoch 21, Train Loss: 0.9260, Test Loss: 1.7741\n",
            "Epoch 22, Train Loss: 0.8964, Test Loss: 1.7677\n",
            "Epoch 23, Train Loss: 0.8690, Test Loss: 1.7681\n",
            "Epoch 24, Train Loss: 0.8426, Test Loss: 1.7744\n",
            "Epoch 25, Train Loss: 0.8180, Test Loss: 1.7671\n",
            "Translation: i fell -> je suis tombe sur un ami dans le bus <EOS>\n",
            "Epoch 26, Train Loss: 0.7925, Test Loss: 1.7718\n",
            "Epoch 27, Train Loss: 0.7704, Test Loss: 1.7724\n",
            "Epoch 28, Train Loss: 0.7489, Test Loss: 1.7727\n",
            "Epoch 29, Train Loss: 0.7289, Test Loss: 1.7710\n",
            "Epoch 30, Train Loss: 0.7078, Test Loss: 1.7776\n",
            "Translation: i fell -> je suis arrive ici a l ecole aujourd hui <EOS>\n",
            "Epoch 31, Train Loss: 0.6894, Test Loss: 1.7809\n",
            "Epoch 32, Train Loss: 0.6705, Test Loss: 1.7853\n",
            "Epoch 33, Train Loss: 0.6532, Test Loss: 1.7857\n",
            "Epoch 34, Train Loss: 0.6385, Test Loss: 1.7899\n",
            "Epoch 35, Train Loss: 0.6206, Test Loss: 1.7884\n",
            "Translation: i fell -> je suis reste a l interieur car il pleuvait <EOS>\n",
            "Epoch 36, Train Loss: 0.6055, Test Loss: 1.7954\n",
            "Epoch 37, Train Loss: 0.5909, Test Loss: 1.8036\n",
            "Epoch 38, Train Loss: 0.5772, Test Loss: 1.8074\n",
            "Epoch 39, Train Loss: 0.5654, Test Loss: 1.8055\n",
            "Epoch 40, Train Loss: 0.5491, Test Loss: 1.8112\n",
            "Translation: i fell -> je suis arrive ici a un probleme <EOS>\n",
            "Epoch 41, Train Loss: 0.5377, Test Loss: 1.8143\n",
            "Epoch 42, Train Loss: 0.5241, Test Loss: 1.8213\n",
            "Epoch 43, Train Loss: 0.5137, Test Loss: 1.8283\n",
            "Epoch 44, Train Loss: 0.5031, Test Loss: 1.8334\n",
            "Epoch 45, Train Loss: 0.4908, Test Loss: 1.8360\n",
            "Translation: i fell -> je suis arrive ici a heures environ <EOS>\n",
            "Epoch 46, Train Loss: 0.4806, Test Loss: 1.8423\n",
            "Epoch 47, Train Loss: 0.4688, Test Loss: 1.8537\n",
            "Epoch 48, Train Loss: 0.4608, Test Loss: 1.8539\n",
            "Epoch 49, Train Loss: 0.4519, Test Loss: 1.8602\n",
            "Epoch 50, Train Loss: 0.4426, Test Loss: 1.8670\n",
            "Translation: i fell -> je suis tombe amoureux de toi <EOS>\n",
            "Epoch 51, Train Loss: 0.4335, Test Loss: 1.8746\n",
            "Epoch 52, Train Loss: 0.4249, Test Loss: 1.8819\n",
            "Epoch 53, Train Loss: 0.4174, Test Loss: 1.8851\n",
            "Epoch 54, Train Loss: 0.4067, Test Loss: 1.8883\n",
            "Epoch 55, Train Loss: 0.4018, Test Loss: 1.8929\n",
            "Translation: i fell -> je suis tombe amoureux de la musique <EOS>\n",
            "Epoch 56, Train Loss: 0.3913, Test Loss: 1.9083\n",
            "Epoch 57, Train Loss: 0.3848, Test Loss: 1.9129\n",
            "Epoch 58, Train Loss: 0.3787, Test Loss: 1.9132\n",
            "Epoch 59, Train Loss: 0.3699, Test Loss: 1.9180\n",
            "Epoch 60, Train Loss: 0.3626, Test Loss: 1.9303\n",
            "Translation: i fell -> je suis parti en amerique maintenant <EOS>\n",
            "Epoch 61, Train Loss: 0.3577, Test Loss: 1.9313\n",
            "Epoch 62, Train Loss: 0.3519, Test Loss: 1.9502\n",
            "Epoch 63, Train Loss: 0.3457, Test Loss: 1.9508\n",
            "Epoch 64, Train Loss: 0.3386, Test Loss: 1.9581\n",
            "Epoch 65, Train Loss: 0.3305, Test Loss: 1.9584\n",
            "Translation: i fell -> je suis tombe amoureuse de la musique <EOS>\n",
            "Epoch 66, Train Loss: 0.3268, Test Loss: 1.9722\n",
            "Epoch 67, Train Loss: 0.3220, Test Loss: 1.9759\n",
            "Epoch 68, Train Loss: 0.3156, Test Loss: 1.9871\n",
            "Epoch 69, Train Loss: 0.3122, Test Loss: 1.9960\n",
            "Epoch 70, Train Loss: 0.3085, Test Loss: 1.9882\n",
            "Translation: i fell -> je suis tombe amoureuse de la musique <EOS>\n",
            "Epoch 71, Train Loss: 0.3019, Test Loss: 2.0002\n",
            "Epoch 72, Train Loss: 0.2971, Test Loss: 2.0032\n",
            "Epoch 73, Train Loss: 0.2907, Test Loss: 2.0155\n",
            "Epoch 74, Train Loss: 0.2869, Test Loss: 2.0156\n",
            "Epoch 75, Train Loss: 0.2812, Test Loss: 2.0296\n",
            "Translation: i fell -> je suis tombe amoureuse de toi <EOS>\n",
            "Epoch 76, Train Loss: 0.2763, Test Loss: 2.0370\n",
            "Epoch 77, Train Loss: 0.2742, Test Loss: 2.0346\n",
            "Epoch 78, Train Loss: 0.2696, Test Loss: 2.0496\n",
            "Epoch 79, Train Loss: 0.2663, Test Loss: 2.0504\n",
            "Epoch 80, Train Loss: 0.2622, Test Loss: 2.0578\n",
            "Translation: i fell -> je suis parti aussi tot que tom <EOS>\n"
          ]
        }
      ]
    },
    {
      "cell_type": "code",
      "source": [
        "# Plot train and test losses over epochs\n",
        "plt.figure()\n",
        "plt.plot(train_losses, label='Train Loss', color='blue')\n",
        "plt.plot(test_losses, label='Test Loss', color='orange')\n",
        "plt.xlabel('Epoch')\n",
        "plt.ylabel('Loss')\n",
        "plt.legend()"
      ],
      "metadata": {
        "colab": {
          "base_uri": "https://localhost:8080/",
          "height": 467
        },
        "id": "I3aOHBeKipV4",
        "outputId": "75d606cd-d9e3-44b4-89a4-573807fe2b8c"
      },
      "execution_count": 60,
      "outputs": [
        {
          "output_type": "execute_result",
          "data": {
            "text/plain": [
              "<matplotlib.legend.Legend at 0x7928fca96470>"
            ]
          },
          "metadata": {},
          "execution_count": 60
        },
        {
          "output_type": "display_data",
          "data": {
            "text/plain": [
              "<Figure size 640x480 with 1 Axes>"
            ],
            "image/png": "[encoded data removed]"
          },
          "metadata": {}
        }
      ]
    }
  ]
}